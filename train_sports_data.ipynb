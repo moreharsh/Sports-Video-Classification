{
 "cells": [
  {
   "cell_type": "code",
   "execution_count": 11,
   "metadata": {},
   "outputs": [],
   "source": [
    "import os\n",
    "import cv2\n",
    "import numpy as np\n",
    "from imutils import paths"
   ]
  },
  {
   "cell_type": "code",
   "execution_count": 12,
   "metadata": {},
   "outputs": [],
   "source": [
    "from sklearn.preprocessing import LabelBinarizer"
   ]
  },
  {
   "cell_type": "code",
   "execution_count": 30,
   "metadata": {},
   "outputs": [],
   "source": [
    "from sklearn.model_selection import train_test_split"
   ]
  },
  {
   "cell_type": "code",
   "execution_count": 33,
   "metadata": {},
   "outputs": [
    {
     "name": "stderr",
     "output_type": "stream",
     "text": [
      "Using TensorFlow backend.\n",
      "E:\\Anaconda3\\lib\\site-packages\\tensorflow\\python\\framework\\dtypes.py:516: FutureWarning: Passing (type, 1) or '1type' as a synonym of type is deprecated; in a future version of numpy, it will be understood as (type, (1,)) / '(1,)type'.\n",
      "  _np_qint8 = np.dtype([(\"qint8\", np.int8, 1)])\n",
      "E:\\Anaconda3\\lib\\site-packages\\tensorflow\\python\\framework\\dtypes.py:517: FutureWarning: Passing (type, 1) or '1type' as a synonym of type is deprecated; in a future version of numpy, it will be understood as (type, (1,)) / '(1,)type'.\n",
      "  _np_quint8 = np.dtype([(\"quint8\", np.uint8, 1)])\n",
      "E:\\Anaconda3\\lib\\site-packages\\tensorflow\\python\\framework\\dtypes.py:518: FutureWarning: Passing (type, 1) or '1type' as a synonym of type is deprecated; in a future version of numpy, it will be understood as (type, (1,)) / '(1,)type'.\n",
      "  _np_qint16 = np.dtype([(\"qint16\", np.int16, 1)])\n",
      "E:\\Anaconda3\\lib\\site-packages\\tensorflow\\python\\framework\\dtypes.py:519: FutureWarning: Passing (type, 1) or '1type' as a synonym of type is deprecated; in a future version of numpy, it will be understood as (type, (1,)) / '(1,)type'.\n",
      "  _np_quint16 = np.dtype([(\"quint16\", np.uint16, 1)])\n",
      "E:\\Anaconda3\\lib\\site-packages\\tensorflow\\python\\framework\\dtypes.py:520: FutureWarning: Passing (type, 1) or '1type' as a synonym of type is deprecated; in a future version of numpy, it will be understood as (type, (1,)) / '(1,)type'.\n",
      "  _np_qint32 = np.dtype([(\"qint32\", np.int32, 1)])\n",
      "E:\\Anaconda3\\lib\\site-packages\\tensorflow\\python\\framework\\dtypes.py:525: FutureWarning: Passing (type, 1) or '1type' as a synonym of type is deprecated; in a future version of numpy, it will be understood as (type, (1,)) / '(1,)type'.\n",
      "  np_resource = np.dtype([(\"resource\", np.ubyte, 1)])\n",
      "E:\\Anaconda3\\lib\\site-packages\\tensorboard\\compat\\tensorflow_stub\\dtypes.py:541: FutureWarning: Passing (type, 1) or '1type' as a synonym of type is deprecated; in a future version of numpy, it will be understood as (type, (1,)) / '(1,)type'.\n",
      "  _np_qint8 = np.dtype([(\"qint8\", np.int8, 1)])\n",
      "E:\\Anaconda3\\lib\\site-packages\\tensorboard\\compat\\tensorflow_stub\\dtypes.py:542: FutureWarning: Passing (type, 1) or '1type' as a synonym of type is deprecated; in a future version of numpy, it will be understood as (type, (1,)) / '(1,)type'.\n",
      "  _np_quint8 = np.dtype([(\"quint8\", np.uint8, 1)])\n",
      "E:\\Anaconda3\\lib\\site-packages\\tensorboard\\compat\\tensorflow_stub\\dtypes.py:543: FutureWarning: Passing (type, 1) or '1type' as a synonym of type is deprecated; in a future version of numpy, it will be understood as (type, (1,)) / '(1,)type'.\n",
      "  _np_qint16 = np.dtype([(\"qint16\", np.int16, 1)])\n",
      "E:\\Anaconda3\\lib\\site-packages\\tensorboard\\compat\\tensorflow_stub\\dtypes.py:544: FutureWarning: Passing (type, 1) or '1type' as a synonym of type is deprecated; in a future version of numpy, it will be understood as (type, (1,)) / '(1,)type'.\n",
      "  _np_quint16 = np.dtype([(\"quint16\", np.uint16, 1)])\n",
      "E:\\Anaconda3\\lib\\site-packages\\tensorboard\\compat\\tensorflow_stub\\dtypes.py:545: FutureWarning: Passing (type, 1) or '1type' as a synonym of type is deprecated; in a future version of numpy, it will be understood as (type, (1,)) / '(1,)type'.\n",
      "  _np_qint32 = np.dtype([(\"qint32\", np.int32, 1)])\n",
      "E:\\Anaconda3\\lib\\site-packages\\tensorboard\\compat\\tensorflow_stub\\dtypes.py:550: FutureWarning: Passing (type, 1) or '1type' as a synonym of type is deprecated; in a future version of numpy, it will be understood as (type, (1,)) / '(1,)type'.\n",
      "  np_resource = np.dtype([(\"resource\", np.ubyte, 1)])\n"
     ]
    }
   ],
   "source": [
    "from keras.preprocessing.image import ImageDataGenerator"
   ]
  },
  {
   "cell_type": "code",
   "execution_count": 47,
   "metadata": {},
   "outputs": [],
   "source": [
    "datapath = r\"D:\\VSCODE\\Git Upload\\Sports-Video-Classification\\data\"\n",
    "outputmodel = r\"D:\\VSCODE\\Git Upload\\Sports-Video-Classification\\model\\videoClassificationModel\"\n",
    "outputlabinarizer = r\"D:\\VSCODE\\Git Upload\\Sports-Video-Classification\\videoClassificationBinarizer\""
   ]
  },
  {
   "cell_type": "code",
   "execution_count": 28,
   "metadata": {},
   "outputs": [],
   "source": [
    "Sports_Labels = set([\"boxing\", \"swimming\", \"table_tennis\"])\n",
    "pathToImages = list(paths.list_images(datapath))\n",
    "data = []\n",
    "labels = []\n",
    "\n",
    "for images in pathToImages:\n",
    "    label = images.split(os.path.sep)[-2]\n",
    "    if label not in Sports_Labels:\n",
    "        continue\n",
    "    image = cv2.imread(images)\n",
    "    image = cv2.cvtColor(image, cv2.COLOR_BGR2RGB)\n",
    "    image = cv2.resize(image, (224, 224))\n",
    "    data.append(image)\n",
    "    labels.append(label)"
   ]
  },
  {
   "cell_type": "code",
   "execution_count": 29,
   "metadata": {},
   "outputs": [],
   "source": [
    "data = np.array(data)\n",
    "labels = np.array(labels)\n",
    "\n",
    "lb = LabelBinarizer()\n",
    "labels = lb.fit_transform(labels)"
   ]
  },
  {
   "cell_type": "code",
   "execution_count": 32,
   "metadata": {},
   "outputs": [],
   "source": [
    "(X_train, X_test, Y_train, Y_test) = train_test_split(data, labels, test_size = 0.3, stratify = labels, random_state = 42)"
   ]
  },
  {
   "cell_type": "code",
   "execution_count": 34,
   "metadata": {},
   "outputs": [],
   "source": [
    "trainingAugmentation = ImageDataGenerator(\n",
    "    rotation_range = 30,\n",
    "    zoom_range = 0.15,\n",
    "    width_shift_range = 0.2,\n",
    "    height_shift_range = 0.2,\n",
    "    shear_range = 0.15,\n",
    "    horizontal_flip = True,\n",
    "    fill_mode = \"nearest\"\n",
    ")\n",
    "\n",
    "validationAugmentation = ImageDataGenerator()\n",
    "\n",
    "mean = np.array([123.68, 116.779, 103.939], dtype = \"float32\")\n",
    "\n",
    "trainingAugmentation.mean = mean\n",
    "validationAugmentation.mean = mean"
   ]
  },
  {
   "cell_type": "code",
   "execution_count": 35,
   "metadata": {},
   "outputs": [],
   "source": [
    "from keras.applications import ResNet50\n",
    "\n",
    "from keras.layers import Input\n",
    "from keras.layers.pooling import AveragePooling2D\n",
    "\n",
    "from keras.layers.core import Flatten\n",
    "from keras.layers.core import Dense\n",
    "\n",
    "from keras.layers.core import Dropout\n",
    "\n",
    "from keras.models import Model "
   ]
  },
  {
   "cell_type": "code",
   "execution_count": 36,
   "metadata": {},
   "outputs": [
    {
     "name": "stdout",
     "output_type": "stream",
     "text": [
      "WARNING:tensorflow:From E:\\Anaconda3\\lib\\site-packages\\keras\\backend\\tensorflow_backend.py:4070: The name tf.nn.max_pool is deprecated. Please use tf.nn.max_pool2d instead.\n",
      "\n"
     ]
    },
    {
     "name": "stderr",
     "output_type": "stream",
     "text": [
      "E:\\Anaconda3\\lib\\site-packages\\keras_applications\\resnet50.py:265: UserWarning: The output shape of `ResNet50(include_top=False)` has been changed since Keras 2.2.0.\n",
      "  warnings.warn('The output shape of `ResNet50(include_top=False)` '\n"
     ]
    },
    {
     "name": "stdout",
     "output_type": "stream",
     "text": [
      "Downloading data from https://github.com/fchollet/deep-learning-models/releases/download/v0.2/resnet50_weights_tf_dim_ordering_tf_kernels_notop.h5\n",
      "94658560/94653016 [==============================] - 226s 2us/step\n",
      "WARNING:tensorflow:From E:\\Anaconda3\\lib\\site-packages\\keras\\backend\\tensorflow_backend.py:4074: The name tf.nn.avg_pool is deprecated. Please use tf.nn.avg_pool2d instead.\n",
      "\n"
     ]
    }
   ],
   "source": [
    "baseModel = ResNet50(weights=\"imagenet\", include_top=False, input_tensor=Input(shape=(224, 224, 3)))\n",
    "\n",
    "headModel = baseModel.output\n",
    "headModel = AveragePooling2D(pool_size=(7, 7))(headModel)\n",
    "headModel = Flatten(name=\"flatten\")(headModel)\n",
    "headModel = Dense(512, activation=\"relu\")(headModel)\n",
    "headModel = Dropout(0.5)(headModel)\n",
    "headModel = Dense(len(lb.classes_), activation=\"softmax\")(headModel)\n",
    "\n",
    "model = Model(inputs = baseModel.input, outputs= headModel)\n",
    "\n",
    "for basemodelLayers in baseModel.layers:\n",
    "    basemodelLayers.trainable = False"
   ]
  },
  {
   "cell_type": "code",
   "execution_count": 37,
   "metadata": {},
   "outputs": [],
   "source": [
    "from keras.optimizers import SGD"
   ]
  },
  {
   "cell_type": "code",
   "execution_count": 39,
   "metadata": {},
   "outputs": [],
   "source": [
    "epoch = 25"
   ]
  },
  {
   "cell_type": "code",
   "execution_count": 40,
   "metadata": {},
   "outputs": [],
   "source": [
    "opt = SGD(lr=0.0001, momentum=0.9, decay=1e-4/epoch)"
   ]
  },
  {
   "cell_type": "code",
   "execution_count": 41,
   "metadata": {},
   "outputs": [],
   "source": [
    "model.compile(loss=\"categorical_crossentropy\", optimizer=opt, metrics=[\"accuracy\"])"
   ]
  },
  {
   "cell_type": "code",
   "execution_count": 42,
   "metadata": {},
   "outputs": [
    {
     "name": "stdout",
     "output_type": "stream",
     "text": [
      "WARNING:tensorflow:From E:\\Anaconda3\\lib\\site-packages\\keras\\backend\\tensorflow_backend.py:422: The name tf.global_variables is deprecated. Please use tf.compat.v1.global_variables instead.\n",
      "\n",
      "Epoch 1/25\n",
      "45/45 [==============================] - 116s 3s/step - loss: 1.1326 - accuracy: 0.4637 - val_loss: 1.0054 - val_accuracy: 0.5691\n",
      "Epoch 2/25\n",
      "45/45 [==============================] - 68s 2s/step - loss: 0.8408 - accuracy: 0.6250 - val_loss: 0.8276 - val_accuracy: 0.6913\n",
      "Epoch 3/25\n",
      "45/45 [==============================] - 66s 1s/step - loss: 0.7026 - accuracy: 0.7018 - val_loss: 0.6759 - val_accuracy: 0.7768\n",
      "Epoch 4/25\n",
      "45/45 [==============================] - 66s 1s/step - loss: 0.5888 - accuracy: 0.7689 - val_loss: 0.3472 - val_accuracy: 0.8255\n",
      "Epoch 5/25\n",
      "45/45 [==============================] - 66s 1s/step - loss: 0.4897 - accuracy: 0.8115 - val_loss: 0.4554 - val_accuracy: 0.8406\n",
      "Epoch 6/25\n",
      "45/45 [==============================] - 66s 1s/step - loss: 0.4880 - accuracy: 0.8101 - val_loss: 0.3112 - val_accuracy: 0.8574\n",
      "Epoch 7/25\n",
      "45/45 [==============================] - 66s 1s/step - loss: 0.4319 - accuracy: 0.8324 - val_loss: 0.2736 - val_accuracy: 0.8876\n",
      "Epoch 8/25\n",
      "45/45 [==============================] - 66s 1s/step - loss: 0.4002 - accuracy: 0.8478 - val_loss: 0.4005 - val_accuracy: 0.8842\n",
      "Epoch 9/25\n",
      "45/45 [==============================] - 66s 1s/step - loss: 0.3485 - accuracy: 0.8638 - val_loss: 0.2125 - val_accuracy: 0.9060\n",
      "Epoch 10/25\n",
      "45/45 [==============================] - 66s 1s/step - loss: 0.3419 - accuracy: 0.8743 - val_loss: 0.2490 - val_accuracy: 0.9077\n",
      "Epoch 11/25\n",
      "45/45 [==============================] - 67s 1s/step - loss: 0.3130 - accuracy: 0.8973 - val_loss: 0.2173 - val_accuracy: 0.9128\n",
      "Epoch 12/25\n",
      "45/45 [==============================] - 68s 2s/step - loss: 0.3208 - accuracy: 0.8771 - val_loss: 0.1336 - val_accuracy: 0.9245\n",
      "Epoch 13/25\n",
      "45/45 [==============================] - 68s 2s/step - loss: 0.2925 - accuracy: 0.8958 - val_loss: 0.2426 - val_accuracy: 0.9128\n",
      "Epoch 14/25\n",
      "45/45 [==============================] - 68s 2s/step - loss: 0.2928 - accuracy: 0.8975 - val_loss: 0.2301 - val_accuracy: 0.9295\n",
      "Epoch 15/25\n",
      "45/45 [==============================] - 68s 2s/step - loss: 0.2655 - accuracy: 0.9106 - val_loss: 0.2281 - val_accuracy: 0.9228\n",
      "Epoch 16/25\n",
      "45/45 [==============================] - 68s 2s/step - loss: 0.2757 - accuracy: 0.9071 - val_loss: 0.1826 - val_accuracy: 0.9279\n",
      "Epoch 17/25\n",
      "45/45 [==============================] - 68s 2s/step - loss: 0.2593 - accuracy: 0.9076 - val_loss: 0.2149 - val_accuracy: 0.9245\n",
      "Epoch 18/25\n",
      "45/45 [==============================] - 68s 2s/step - loss: 0.2617 - accuracy: 0.9052 - val_loss: 0.2960 - val_accuracy: 0.9379\n",
      "Epoch 19/25\n",
      "45/45 [==============================] - 68s 2s/step - loss: 0.2646 - accuracy: 0.9050 - val_loss: 0.1230 - val_accuracy: 0.9362\n",
      "Epoch 20/25\n",
      "45/45 [==============================] - 69s 2s/step - loss: 0.2526 - accuracy: 0.9118 - val_loss: 0.1022 - val_accuracy: 0.9295\n",
      "Epoch 21/25\n",
      "45/45 [==============================] - 69s 2s/step - loss: 0.2421 - accuracy: 0.9183 - val_loss: 0.1614 - val_accuracy: 0.9424\n",
      "Epoch 22/25\n",
      "45/45 [==============================] - 69s 2s/step - loss: 0.2259 - accuracy: 0.9157 - val_loss: 0.1054 - val_accuracy: 0.9396\n",
      "Epoch 23/25\n",
      "45/45 [==============================] - 68s 2s/step - loss: 0.2021 - accuracy: 0.9382 - val_loss: 0.1804 - val_accuracy: 0.9295\n",
      "Epoch 24/25\n",
      "45/45 [==============================] - 68s 2s/step - loss: 0.2402 - accuracy: 0.9045 - val_loss: 0.2049 - val_accuracy: 0.9413\n",
      "Epoch 25/25\n",
      "45/45 [==============================] - 68s 2s/step - loss: 0.2222 - accuracy: 0.9236 - val_loss: 0.1308 - val_accuracy: 0.9446\n"
     ]
    }
   ],
   "source": [
    "History = model.fit_generator(\n",
    "    trainingAugmentation.flow(X_train, Y_train, batch_size = 32),\n",
    "    steps_per_epoch = len(X_train) // 32,\n",
    "    validation_data = validationAugmentation.flow(X_test, Y_test),\n",
    "    validation_steps = len(X_test) // 32,\n",
    "    epochs = epoch\n",
    ")"
   ]
  },
  {
   "cell_type": "code",
   "execution_count": 43,
   "metadata": {},
   "outputs": [],
   "source": [
    "import pickle"
   ]
  },
  {
   "cell_type": "code",
   "execution_count": 48,
   "metadata": {},
   "outputs": [],
   "source": [
    "model.save(outputmodel)\n",
    "lbinarizer = open(r\"D:\\VSCODE\\Git Upload\\Sports-Video-Classification\\model\\videoclassificationbinarizer.pickle\", \"wb\")\n",
    "lbinarizer.write(pickle.dumps(lb))\n",
    "lbinarizer.close()"
   ]
  },
  {
   "cell_type": "code",
   "execution_count": null,
   "metadata": {},
   "outputs": [],
   "source": []
  }
 ],
 "metadata": {
  "kernelspec": {
   "display_name": "Python 3",
   "language": "python",
   "name": "python3"
  },
  "language_info": {
   "codemirror_mode": {
    "name": "ipython",
    "version": 3
   },
   "file_extension": ".py",
   "mimetype": "text/x-python",
   "name": "python",
   "nbconvert_exporter": "python",
   "pygments_lexer": "ipython3",
   "version": "3.7.3"
  }
 },
 "nbformat": 4,
 "nbformat_minor": 2
}
